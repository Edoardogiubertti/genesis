{
 "cells": [
  {
   "cell_type": "code",
   "execution_count": 6,
   "id": "b92285b3",
   "metadata": {},
   "outputs": [],
   "source": [
    "#Bibliotecas padrão para ds\n",
    "\n",
    "import pandas as pd\n",
    "import numpy as np\n",
    "from bs4 import BeautifulSoup\n",
    "import requests"
   ]
  },
  {
   "cell_type": "code",
   "execution_count": 7,
   "id": "7e70feb5",
   "metadata": {},
   "outputs": [],
   "source": [
    "#Página a ser raspada\n",
    "\n",
    "url = \"https://www.globo.com/\""
   ]
  },
  {
   "cell_type": "code",
   "execution_count": 8,
   "id": "cf7253e9",
   "metadata": {},
   "outputs": [],
   "source": [
    "#requisição recebe a página e texto\n",
    "\n",
    "requisicao = requests.get(url).text\n",
    "#print(requisicao)"
   ]
  },
  {
   "cell_type": "code",
   "execution_count": 9,
   "id": "b35c3a9f",
   "metadata": {},
   "outputs": [],
   "source": [
    "#Ao verificar a página da globo.com\n",
    "\n",
    "soup = BeautifulSoup(requisicao, 'html.parser')\n",
    "noticias = soup.find_all(class_=\"post__title\")"
   ]
  },
  {
   "cell_type": "code",
   "execution_count": 10,
   "id": "db291e1c",
   "metadata": {},
   "outputs": [
    {
     "name": "stdout",
     "output_type": "stream",
     "text": [
      "Líder do Brasileirão, Palmeiras recebe o Atlético-GO; pré-jogo\n",
      "Confira a tabela completa do Brasileirão aqui\n",
      "Lanús anuncia transferência de atacante López para o Palmeiras\n",
      "Fagner deve jogar contra Goiás\n",
      "Arsenal encaminha acordo com City e fica perto de Gabriel Jesus\n",
      "Sem espaço no Inter, Tiago Barbosa vai para a Bulgária\n",
      "Liverpool contrata jovem escocês de 18 anos \n",
      "'Pantanal': de saída da fazenda, Guta se choca ao dar de cara com Marcelo \n",
      "Elenco aproveita folga e feriado\n",
      " 'Festa no Pantanal' tem passinho, música e empolgação; assista\n",
      "Veja como será transa de Bruaca e Alcides no capítulo de hoje \n",
      "Simaria anuncia que dará tempo na carreira: 'Cuidar da saúde'\n",
      "Imagens mostram Bruno Pereira antes do desaparecimento\n",
      "Caso Bruno e Dom: restos mortais chegam hoje ao DF \n",
      "Vídeo de meses atrás mostra Bruno e suspeito\n",
      "Fontes dizem que houve perseguição e tiros \n",
      "Botafogo faz 1 a 0 no São Paulo no RJ; siga o jogo por aqui\n",
      "Quer ver o jogão em casa? Assine o Premiere\n",
      "Cruzeiro amplia o placar contra a Ponte Preta; siga\n",
      "Bahia e Vasco caçam o líder; confira a tabela\n",
      "Drone em MG jogou veneno em público em evento de Lula\n",
      "Vereador Arnaldo Faria de Sá morre em SP aos 76\n",
      "Cidade em SP tem 6º caso de varíola dos macacos no país\n",
      "Coreia do Norte diz enfrentar nova doença\n",
      "Assassin's Creed: Origins está grátis para baixar em todas as plataformas\n",
      "Samsung prepara nova versão do Galaxy S21 FE mais barata e sem 5G\n",
      "Como criar um avatar 3D para usar no Instagram e no Facebook\n",
      "PUBG: Brasil inicia caminhada na PUBG Nations Cup 2022\n",
      "Bonitos, mas perigosos: 8 belos animais dos quais devemos passar longe\n",
      "Catnip, a erva do gato, também é repelente de insetos, indica estudo\n",
      "Sinastria: entenda como o mapa astral do tutor e pet se complementam \n",
      "Festival de Veneza: 21 makes inesquecíveis do tapete vermelho \n",
      "Luana Piovani investe em moda circular: 'Abomino o desperdício'\n",
      "Corte 'Modern Rachel' vai atualizar seu cabelo sem diminuir comprimento\n",
      "Desconfiada, Olívia confronta os pais e ouve que foi adotada\n",
      "Jéssica busca benzedeira, e ela sente ligação de Clarice com Anita\n",
      "Sucesso no TikTok, Ramana Borba lembra coreografia feita para Dua Lipa\n",
      "Confira 7 apresentações da sétima temporada que fizeram chorar\n",
      "'Amor com Amor se Paga': na novela de 1984, órfão conquista o coração de senhor neurótico\n",
      "'Theodosia': artefato mágico do Egito e missão viram vida de Theodosia de cabeça para baixo\n",
      "'Killing Eve': temporada final mostra Villanelle tentando provar que mudou; veja teaser\n",
      "Mais de 80 tiros de fuzil atingiram BMW blindada onde homem foi executado no RJ\n",
      "O que se sabe sobre dinâmica do crime e onde foram achados os corpos de Bruno e Phillips\n",
      "Bombeiros encontram o corpo do modelo Tunay Antunes Pedroso, arrastado por onda no Rio\n",
      "Até para integrantes do governo, Bolsonaro errou em falas sobre Bruno e Dom\n",
      "Caso Bruno e Dom: Avião com restos mortais chega a Brasília na noite desta quinta\n",
      "Mulher de Jô se separa do jogador após gravidez de suposta amante: 'Quem perdeu foi ele'\n",
      "Após saída de Paulo Sousa e comissão, Fla reformula quadro de funcionários\n",
      "Dani Alves vai precisar correr contra o tempo por vaga na Copa\n",
      "Nova musa do vôlei, mais seguida do mundo, faz ensaio de roupa íntima com a irmã gêmea\n",
      "Cristiano Ronaldo curte férias em iate com família e... bicicleta ergométrica\n",
      "'Pantanal': prestes a ir embora, Guta dará de cara com Marcelo\n",
      "Débora Nascimento deixa comentário em post de Thaila Ayala sobre fim de casamento\n",
      "Gil do Vigor revela se está namorando e brinca: 'Calma, respira'\n",
      "Camila Cabello curte praia com amigas em Miami \n",
      "Rafa Uccman ganha pulseira de R$ 30 mil de GKay e amigos: 'Mandou até referência'\n"
     ]
    }
   ],
   "source": [
    "for i in noticias:\n",
    "    news = i.contents[0]\n",
    "    print(news)"
   ]
  },
  {
   "cell_type": "code",
   "execution_count": null,
   "id": "e8c138a3",
   "metadata": {},
   "outputs": [],
   "source": []
  }
 ],
 "metadata": {
  "kernelspec": {
   "display_name": "Python 3 (ipykernel)",
   "language": "python",
   "name": "python3"
  },
  "language_info": {
   "codemirror_mode": {
    "name": "ipython",
    "version": 3
   },
   "file_extension": ".py",
   "mimetype": "text/x-python",
   "name": "python",
   "nbconvert_exporter": "python",
   "pygments_lexer": "ipython3",
   "version": "3.9.12"
  }
 },
 "nbformat": 4,
 "nbformat_minor": 5
}
