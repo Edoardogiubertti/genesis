{
 "cells": [
  {
   "cell_type": "code",
   "execution_count": 1,
   "id": "f294cd98",
   "metadata": {},
   "outputs": [],
   "source": [
    "import pandas as pd\n",
    "import seaborn as sns\n",
    "import numpy as np\n",
    "import matplotlib.pyplot as plt"
   ]
  },
  {
   "cell_type": "code",
   "execution_count": 2,
   "id": "54366864",
   "metadata": {},
   "outputs": [
    {
     "data": {
      "text/html": [
       "<div>\n",
       "<style scoped>\n",
       "    .dataframe tbody tr th:only-of-type {\n",
       "        vertical-align: middle;\n",
       "    }\n",
       "\n",
       "    .dataframe tbody tr th {\n",
       "        vertical-align: top;\n",
       "    }\n",
       "\n",
       "    .dataframe thead th {\n",
       "        text-align: right;\n",
       "    }\n",
       "</style>\n",
       "<table border=\"1\" class=\"dataframe\">\n",
       "  <thead>\n",
       "    <tr style=\"text-align: right;\">\n",
       "      <th></th>\n",
       "      <th>ID</th>\n",
       "      <th>rodada</th>\n",
       "      <th>data</th>\n",
       "      <th>hora</th>\n",
       "      <th>dia</th>\n",
       "      <th>mandante</th>\n",
       "      <th>visitante</th>\n",
       "      <th>formacao_mandante</th>\n",
       "      <th>formacao_visitante</th>\n",
       "      <th>tecnico_mandante</th>\n",
       "      <th>tecnico_visitante</th>\n",
       "      <th>vencedor</th>\n",
       "      <th>arena</th>\n",
       "      <th>mandante_placar</th>\n",
       "      <th>visitante_placar</th>\n",
       "      <th>mandante_estado</th>\n",
       "      <th>visitante_estado</th>\n",
       "      <th>estado_vencedor</th>\n",
       "    </tr>\n",
       "  </thead>\n",
       "  <tbody>\n",
       "    <tr>\n",
       "      <th>0</th>\n",
       "      <td>1</td>\n",
       "      <td>1</td>\n",
       "      <td>2003-03-29</td>\n",
       "      <td>16:00</td>\n",
       "      <td>Sabado</td>\n",
       "      <td>Guarani</td>\n",
       "      <td>Vasco</td>\n",
       "      <td>NaN</td>\n",
       "      <td>NaN</td>\n",
       "      <td>NaN</td>\n",
       "      <td>NaN</td>\n",
       "      <td>Guarani</td>\n",
       "      <td>brinco de ouro</td>\n",
       "      <td>4</td>\n",
       "      <td>2</td>\n",
       "      <td>SP</td>\n",
       "      <td>RJ</td>\n",
       "      <td>SP</td>\n",
       "    </tr>\n",
       "    <tr>\n",
       "      <th>1</th>\n",
       "      <td>2</td>\n",
       "      <td>1</td>\n",
       "      <td>2003-03-29</td>\n",
       "      <td>16:00</td>\n",
       "      <td>Sabado</td>\n",
       "      <td>Athletico-PR</td>\n",
       "      <td>Gremio</td>\n",
       "      <td>NaN</td>\n",
       "      <td>NaN</td>\n",
       "      <td>NaN</td>\n",
       "      <td>NaN</td>\n",
       "      <td>Athletico-PR</td>\n",
       "      <td>arena da baixada</td>\n",
       "      <td>2</td>\n",
       "      <td>0</td>\n",
       "      <td>PR</td>\n",
       "      <td>RS</td>\n",
       "      <td>PR</td>\n",
       "    </tr>\n",
       "    <tr>\n",
       "      <th>2</th>\n",
       "      <td>3</td>\n",
       "      <td>1</td>\n",
       "      <td>2003-03-30</td>\n",
       "      <td>16:00</td>\n",
       "      <td>Domingo</td>\n",
       "      <td>Flamengo</td>\n",
       "      <td>Coritiba</td>\n",
       "      <td>NaN</td>\n",
       "      <td>NaN</td>\n",
       "      <td>NaN</td>\n",
       "      <td>NaN</td>\n",
       "      <td>-</td>\n",
       "      <td>maracana</td>\n",
       "      <td>1</td>\n",
       "      <td>1</td>\n",
       "      <td>RJ</td>\n",
       "      <td>PR</td>\n",
       "      <td>-</td>\n",
       "    </tr>\n",
       "    <tr>\n",
       "      <th>3</th>\n",
       "      <td>4</td>\n",
       "      <td>1</td>\n",
       "      <td>2003-03-30</td>\n",
       "      <td>16:00</td>\n",
       "      <td>Domingo</td>\n",
       "      <td>Goias</td>\n",
       "      <td>Paysandu</td>\n",
       "      <td>NaN</td>\n",
       "      <td>NaN</td>\n",
       "      <td>NaN</td>\n",
       "      <td>NaN</td>\n",
       "      <td>-</td>\n",
       "      <td>serra dourada</td>\n",
       "      <td>2</td>\n",
       "      <td>2</td>\n",
       "      <td>GO</td>\n",
       "      <td>PA</td>\n",
       "      <td>-</td>\n",
       "    </tr>\n",
       "    <tr>\n",
       "      <th>4</th>\n",
       "      <td>5</td>\n",
       "      <td>1</td>\n",
       "      <td>2003-03-30</td>\n",
       "      <td>16:00</td>\n",
       "      <td>Domingo</td>\n",
       "      <td>Internacional</td>\n",
       "      <td>Ponte Preta</td>\n",
       "      <td>NaN</td>\n",
       "      <td>NaN</td>\n",
       "      <td>NaN</td>\n",
       "      <td>NaN</td>\n",
       "      <td>-</td>\n",
       "      <td>beira rio</td>\n",
       "      <td>1</td>\n",
       "      <td>1</td>\n",
       "      <td>RS</td>\n",
       "      <td>SP</td>\n",
       "      <td>-</td>\n",
       "    </tr>\n",
       "  </tbody>\n",
       "</table>\n",
       "</div>"
      ],
      "text/plain": [
       "   ID  rodada        data   hora      dia       mandante    visitante  \\\n",
       "0   1       1  2003-03-29  16:00   Sabado        Guarani        Vasco   \n",
       "1   2       1  2003-03-29  16:00   Sabado   Athletico-PR       Gremio   \n",
       "2   3       1  2003-03-30  16:00  Domingo       Flamengo     Coritiba   \n",
       "3   4       1  2003-03-30  16:00  Domingo          Goias     Paysandu   \n",
       "4   5       1  2003-03-30  16:00  Domingo  Internacional  Ponte Preta   \n",
       "\n",
       "  formacao_mandante formacao_visitante tecnico_mandante tecnico_visitante  \\\n",
       "0               NaN                NaN              NaN               NaN   \n",
       "1               NaN                NaN              NaN               NaN   \n",
       "2               NaN                NaN              NaN               NaN   \n",
       "3               NaN                NaN              NaN               NaN   \n",
       "4               NaN                NaN              NaN               NaN   \n",
       "\n",
       "       vencedor             arena  mandante_placar  visitante_placar  \\\n",
       "0       Guarani    brinco de ouro                4                 2   \n",
       "1  Athletico-PR  arena da baixada                2                 0   \n",
       "2             -          maracana                1                 1   \n",
       "3             -     serra dourada                2                 2   \n",
       "4             -         beira rio                1                 1   \n",
       "\n",
       "  mandante_estado visitante_estado estado_vencedor  \n",
       "0              SP               RJ              SP  \n",
       "1              PR               RS              PR  \n",
       "2              RJ               PR               -  \n",
       "3              GO               PA               -  \n",
       "4              RS               SP               -  "
      ]
     },
     "execution_count": 2,
     "metadata": {},
     "output_type": "execute_result"
    }
   ],
   "source": [
    "#importando os dados do csv\n",
    "\n",
    "df = pd.read_csv('brr.csv')\n",
    "\n",
    "df.head()"
   ]
  },
  {
   "cell_type": "code",
   "execution_count": 3,
   "id": "ddefa7f1",
   "metadata": {},
   "outputs": [],
   "source": [
    "del df['rodada'], df['formacao_mandante'], df['formacao_visitante'], df['tecnico_mandante'], df['tecnico_visitante'], df['estado_vencedor'], df['hora'], df['ID'], df['arena'], df['mandante_estado'], df['visitante_estado']"
   ]
  },
  {
   "cell_type": "code",
   "execution_count": 4,
   "id": "04be7df3",
   "metadata": {},
   "outputs": [
    {
     "data": {
      "text/plain": [
       "(7645, 7)"
      ]
     },
     "execution_count": 4,
     "metadata": {},
     "output_type": "execute_result"
    }
   ],
   "source": [
    "df.shape"
   ]
  },
  {
   "cell_type": "code",
   "execution_count": 5,
   "id": "f58b534c",
   "metadata": {},
   "outputs": [
    {
     "data": {
      "text/html": [
       "<div>\n",
       "<style scoped>\n",
       "    .dataframe tbody tr th:only-of-type {\n",
       "        vertical-align: middle;\n",
       "    }\n",
       "\n",
       "    .dataframe tbody tr th {\n",
       "        vertical-align: top;\n",
       "    }\n",
       "\n",
       "    .dataframe thead th {\n",
       "        text-align: right;\n",
       "    }\n",
       "</style>\n",
       "<table border=\"1\" class=\"dataframe\">\n",
       "  <thead>\n",
       "    <tr style=\"text-align: right;\">\n",
       "      <th></th>\n",
       "      <th>data</th>\n",
       "      <th>dia</th>\n",
       "      <th>mandante</th>\n",
       "      <th>visitante</th>\n",
       "      <th>vencedor</th>\n",
       "      <th>mandante_placar</th>\n",
       "      <th>visitante_placar</th>\n",
       "    </tr>\n",
       "  </thead>\n",
       "  <tbody>\n",
       "    <tr>\n",
       "      <th>0</th>\n",
       "      <td>2003-03-29</td>\n",
       "      <td>Sabado</td>\n",
       "      <td>GUARANI</td>\n",
       "      <td>VASCO</td>\n",
       "      <td>GUARANI</td>\n",
       "      <td>4</td>\n",
       "      <td>2</td>\n",
       "    </tr>\n",
       "    <tr>\n",
       "      <th>1</th>\n",
       "      <td>2003-03-29</td>\n",
       "      <td>Sabado</td>\n",
       "      <td>ATHLETICO-PR</td>\n",
       "      <td>GREMIO</td>\n",
       "      <td>ATHLETICO-PR</td>\n",
       "      <td>2</td>\n",
       "      <td>0</td>\n",
       "    </tr>\n",
       "    <tr>\n",
       "      <th>2</th>\n",
       "      <td>2003-03-30</td>\n",
       "      <td>Domingo</td>\n",
       "      <td>FLAMENGO</td>\n",
       "      <td>CORITIBA</td>\n",
       "      <td>-</td>\n",
       "      <td>1</td>\n",
       "      <td>1</td>\n",
       "    </tr>\n",
       "    <tr>\n",
       "      <th>3</th>\n",
       "      <td>2003-03-30</td>\n",
       "      <td>Domingo</td>\n",
       "      <td>GOIAS</td>\n",
       "      <td>PAYSANDU</td>\n",
       "      <td>-</td>\n",
       "      <td>2</td>\n",
       "      <td>2</td>\n",
       "    </tr>\n",
       "    <tr>\n",
       "      <th>4</th>\n",
       "      <td>2003-03-30</td>\n",
       "      <td>Domingo</td>\n",
       "      <td>INTERNACIONAL</td>\n",
       "      <td>PONTE PRETA</td>\n",
       "      <td>-</td>\n",
       "      <td>1</td>\n",
       "      <td>1</td>\n",
       "    </tr>\n",
       "  </tbody>\n",
       "</table>\n",
       "</div>"
      ],
      "text/plain": [
       "         data      dia       mandante    visitante      vencedor  \\\n",
       "0  2003-03-29   Sabado        GUARANI        VASCO       GUARANI   \n",
       "1  2003-03-29   Sabado   ATHLETICO-PR       GREMIO  ATHLETICO-PR   \n",
       "2  2003-03-30  Domingo       FLAMENGO     CORITIBA             -   \n",
       "3  2003-03-30  Domingo          GOIAS     PAYSANDU             -   \n",
       "4  2003-03-30  Domingo  INTERNACIONAL  PONTE PRETA             -   \n",
       "\n",
       "   mandante_placar  visitante_placar  \n",
       "0                4                 2  \n",
       "1                2                 0  \n",
       "2                1                 1  \n",
       "3                2                 2  \n",
       "4                1                 1  "
      ]
     },
     "execution_count": 5,
     "metadata": {},
     "output_type": "execute_result"
    }
   ],
   "source": [
    "#para passar o nome dos times para tudo como maiúsculo, pelo fato do python ser case sensitive\n",
    "\n",
    "df['vencedor'] = df['vencedor'].str.upper()\n",
    "df['mandante'] = df['mandante'].str.upper()\n",
    "df['visitante'] = df['visitante'].str.upper()\n",
    "df.head()"
   ]
  },
  {
   "cell_type": "code",
   "execution_count": 6,
   "id": "78c67f27",
   "metadata": {},
   "outputs": [
    {
     "data": {
      "text/html": [
       "<div>\n",
       "<style scoped>\n",
       "    .dataframe tbody tr th:only-of-type {\n",
       "        vertical-align: middle;\n",
       "    }\n",
       "\n",
       "    .dataframe tbody tr th {\n",
       "        vertical-align: top;\n",
       "    }\n",
       "\n",
       "    .dataframe thead th {\n",
       "        text-align: right;\n",
       "    }\n",
       "</style>\n",
       "<table border=\"1\" class=\"dataframe\">\n",
       "  <thead>\n",
       "    <tr style=\"text-align: right;\">\n",
       "      <th></th>\n",
       "      <th>data</th>\n",
       "      <th>dia</th>\n",
       "      <th>mandante</th>\n",
       "      <th>visitante</th>\n",
       "      <th>vencedor</th>\n",
       "      <th>mandante_placar</th>\n",
       "      <th>visitante_placar</th>\n",
       "    </tr>\n",
       "  </thead>\n",
       "  <tbody>\n",
       "    <tr>\n",
       "      <th>0</th>\n",
       "      <td>2003</td>\n",
       "      <td>Sabado</td>\n",
       "      <td>GUARANI</td>\n",
       "      <td>VASCO</td>\n",
       "      <td>GUARANI</td>\n",
       "      <td>4</td>\n",
       "      <td>2</td>\n",
       "    </tr>\n",
       "    <tr>\n",
       "      <th>1</th>\n",
       "      <td>2003</td>\n",
       "      <td>Sabado</td>\n",
       "      <td>ATHLETICO-PR</td>\n",
       "      <td>GREMIO</td>\n",
       "      <td>ATHLETICO-PR</td>\n",
       "      <td>2</td>\n",
       "      <td>0</td>\n",
       "    </tr>\n",
       "    <tr>\n",
       "      <th>2</th>\n",
       "      <td>2003</td>\n",
       "      <td>Domingo</td>\n",
       "      <td>FLAMENGO</td>\n",
       "      <td>CORITIBA</td>\n",
       "      <td>-</td>\n",
       "      <td>1</td>\n",
       "      <td>1</td>\n",
       "    </tr>\n",
       "    <tr>\n",
       "      <th>3</th>\n",
       "      <td>2003</td>\n",
       "      <td>Domingo</td>\n",
       "      <td>GOIAS</td>\n",
       "      <td>PAYSANDU</td>\n",
       "      <td>-</td>\n",
       "      <td>2</td>\n",
       "      <td>2</td>\n",
       "    </tr>\n",
       "    <tr>\n",
       "      <th>4</th>\n",
       "      <td>2003</td>\n",
       "      <td>Domingo</td>\n",
       "      <td>INTERNACIONAL</td>\n",
       "      <td>PONTE PRETA</td>\n",
       "      <td>-</td>\n",
       "      <td>1</td>\n",
       "      <td>1</td>\n",
       "    </tr>\n",
       "  </tbody>\n",
       "</table>\n",
       "</div>"
      ],
      "text/plain": [
       "   data      dia       mandante    visitante      vencedor  mandante_placar  \\\n",
       "0  2003   Sabado        GUARANI        VASCO       GUARANI                4   \n",
       "1  2003   Sabado   ATHLETICO-PR       GREMIO  ATHLETICO-PR                2   \n",
       "2  2003  Domingo       FLAMENGO     CORITIBA             -                1   \n",
       "3  2003  Domingo          GOIAS     PAYSANDU             -                2   \n",
       "4  2003  Domingo  INTERNACIONAL  PONTE PRETA             -                1   \n",
       "\n",
       "   visitante_placar  \n",
       "0                 2  \n",
       "1                 0  \n",
       "2                 1  \n",
       "3                 2  \n",
       "4                 1  "
      ]
     },
     "execution_count": 6,
     "metadata": {},
     "output_type": "execute_result"
    }
   ],
   "source": [
    "#Retirando apenas o ano da data completa\n",
    "\n",
    "df['data'] = pd.DatetimeIndex(df['data']).year\n",
    "df.head()"
   ]
  },
  {
   "cell_type": "code",
   "execution_count": 7,
   "id": "78264f3c",
   "metadata": {},
   "outputs": [
    {
     "data": {
      "text/html": [
       "<div>\n",
       "<style scoped>\n",
       "    .dataframe tbody tr th:only-of-type {\n",
       "        vertical-align: middle;\n",
       "    }\n",
       "\n",
       "    .dataframe tbody tr th {\n",
       "        vertical-align: top;\n",
       "    }\n",
       "\n",
       "    .dataframe thead th {\n",
       "        text-align: right;\n",
       "    }\n",
       "</style>\n",
       "<table border=\"1\" class=\"dataframe\">\n",
       "  <thead>\n",
       "    <tr style=\"text-align: right;\">\n",
       "      <th></th>\n",
       "      <th>data</th>\n",
       "      <th>dia</th>\n",
       "      <th>mandante</th>\n",
       "      <th>visitante</th>\n",
       "      <th>vencedor</th>\n",
       "      <th>mandante_placar</th>\n",
       "      <th>visitante_placar</th>\n",
       "      <th>gols</th>\n",
       "    </tr>\n",
       "  </thead>\n",
       "  <tbody>\n",
       "    <tr>\n",
       "      <th>0</th>\n",
       "      <td>2003</td>\n",
       "      <td>Sabado</td>\n",
       "      <td>GUARANI</td>\n",
       "      <td>VASCO</td>\n",
       "      <td>GUARANI</td>\n",
       "      <td>4</td>\n",
       "      <td>2</td>\n",
       "      <td>6</td>\n",
       "    </tr>\n",
       "    <tr>\n",
       "      <th>1</th>\n",
       "      <td>2003</td>\n",
       "      <td>Sabado</td>\n",
       "      <td>ATHLETICO-PR</td>\n",
       "      <td>GREMIO</td>\n",
       "      <td>ATHLETICO-PR</td>\n",
       "      <td>2</td>\n",
       "      <td>0</td>\n",
       "      <td>2</td>\n",
       "    </tr>\n",
       "    <tr>\n",
       "      <th>2</th>\n",
       "      <td>2003</td>\n",
       "      <td>Domingo</td>\n",
       "      <td>FLAMENGO</td>\n",
       "      <td>CORITIBA</td>\n",
       "      <td>-</td>\n",
       "      <td>1</td>\n",
       "      <td>1</td>\n",
       "      <td>2</td>\n",
       "    </tr>\n",
       "    <tr>\n",
       "      <th>3</th>\n",
       "      <td>2003</td>\n",
       "      <td>Domingo</td>\n",
       "      <td>GOIAS</td>\n",
       "      <td>PAYSANDU</td>\n",
       "      <td>-</td>\n",
       "      <td>2</td>\n",
       "      <td>2</td>\n",
       "      <td>4</td>\n",
       "    </tr>\n",
       "    <tr>\n",
       "      <th>4</th>\n",
       "      <td>2003</td>\n",
       "      <td>Domingo</td>\n",
       "      <td>INTERNACIONAL</td>\n",
       "      <td>PONTE PRETA</td>\n",
       "      <td>-</td>\n",
       "      <td>1</td>\n",
       "      <td>1</td>\n",
       "      <td>2</td>\n",
       "    </tr>\n",
       "  </tbody>\n",
       "</table>\n",
       "</div>"
      ],
      "text/plain": [
       "   data      dia       mandante    visitante      vencedor  mandante_placar  \\\n",
       "0  2003   Sabado        GUARANI        VASCO       GUARANI                4   \n",
       "1  2003   Sabado   ATHLETICO-PR       GREMIO  ATHLETICO-PR                2   \n",
       "2  2003  Domingo       FLAMENGO     CORITIBA             -                1   \n",
       "3  2003  Domingo          GOIAS     PAYSANDU             -                2   \n",
       "4  2003  Domingo  INTERNACIONAL  PONTE PRETA             -                1   \n",
       "\n",
       "   visitante_placar  gols  \n",
       "0                 2     6  \n",
       "1                 0     2  \n",
       "2                 1     2  \n",
       "3                 2     4  \n",
       "4                 1     2  "
      ]
     },
     "execution_count": 7,
     "metadata": {},
     "output_type": "execute_result"
    }
   ],
   "source": [
    "#achando o total de gols em cada jogo\n",
    "\n",
    "df['gols'] = df['mandante_placar'] + df['visitante_placar']\n",
    "df.head()"
   ]
  },
  {
   "cell_type": "code",
   "execution_count": 8,
   "id": "a1b238e7",
   "metadata": {},
   "outputs": [
    {
     "data": {
      "text/html": [
       "<div>\n",
       "<style scoped>\n",
       "    .dataframe tbody tr th:only-of-type {\n",
       "        vertical-align: middle;\n",
       "    }\n",
       "\n",
       "    .dataframe tbody tr th {\n",
       "        vertical-align: top;\n",
       "    }\n",
       "\n",
       "    .dataframe thead th {\n",
       "        text-align: right;\n",
       "    }\n",
       "</style>\n",
       "<table border=\"1\" class=\"dataframe\">\n",
       "  <thead>\n",
       "    <tr style=\"text-align: right;\">\n",
       "      <th></th>\n",
       "      <th>data</th>\n",
       "      <th>dia</th>\n",
       "      <th>mandante</th>\n",
       "      <th>visitante</th>\n",
       "      <th>vencedor</th>\n",
       "      <th>mandante_placar</th>\n",
       "      <th>visitante_placar</th>\n",
       "      <th>gols</th>\n",
       "      <th>vencedor_binario</th>\n",
       "    </tr>\n",
       "  </thead>\n",
       "  <tbody>\n",
       "    <tr>\n",
       "      <th>0</th>\n",
       "      <td>2003</td>\n",
       "      <td>Sabado</td>\n",
       "      <td>GUARANI</td>\n",
       "      <td>VASCO</td>\n",
       "      <td>GUARANI</td>\n",
       "      <td>4</td>\n",
       "      <td>2</td>\n",
       "      <td>6</td>\n",
       "      <td>1</td>\n",
       "    </tr>\n",
       "    <tr>\n",
       "      <th>1</th>\n",
       "      <td>2003</td>\n",
       "      <td>Sabado</td>\n",
       "      <td>ATHLETICO-PR</td>\n",
       "      <td>GREMIO</td>\n",
       "      <td>ATHLETICO-PR</td>\n",
       "      <td>2</td>\n",
       "      <td>0</td>\n",
       "      <td>2</td>\n",
       "      <td>1</td>\n",
       "    </tr>\n",
       "    <tr>\n",
       "      <th>2</th>\n",
       "      <td>2003</td>\n",
       "      <td>Domingo</td>\n",
       "      <td>FLAMENGO</td>\n",
       "      <td>CORITIBA</td>\n",
       "      <td>-</td>\n",
       "      <td>1</td>\n",
       "      <td>1</td>\n",
       "      <td>2</td>\n",
       "      <td>0</td>\n",
       "    </tr>\n",
       "    <tr>\n",
       "      <th>3</th>\n",
       "      <td>2003</td>\n",
       "      <td>Domingo</td>\n",
       "      <td>GOIAS</td>\n",
       "      <td>PAYSANDU</td>\n",
       "      <td>-</td>\n",
       "      <td>2</td>\n",
       "      <td>2</td>\n",
       "      <td>4</td>\n",
       "      <td>0</td>\n",
       "    </tr>\n",
       "    <tr>\n",
       "      <th>4</th>\n",
       "      <td>2003</td>\n",
       "      <td>Domingo</td>\n",
       "      <td>INTERNACIONAL</td>\n",
       "      <td>PONTE PRETA</td>\n",
       "      <td>-</td>\n",
       "      <td>1</td>\n",
       "      <td>1</td>\n",
       "      <td>2</td>\n",
       "      <td>0</td>\n",
       "    </tr>\n",
       "  </tbody>\n",
       "</table>\n",
       "</div>"
      ],
      "text/plain": [
       "   data      dia       mandante    visitante      vencedor  mandante_placar  \\\n",
       "0  2003   Sabado        GUARANI        VASCO       GUARANI                4   \n",
       "1  2003   Sabado   ATHLETICO-PR       GREMIO  ATHLETICO-PR                2   \n",
       "2  2003  Domingo       FLAMENGO     CORITIBA             -                1   \n",
       "3  2003  Domingo          GOIAS     PAYSANDU             -                2   \n",
       "4  2003  Domingo  INTERNACIONAL  PONTE PRETA             -                1   \n",
       "\n",
       "   visitante_placar  gols  vencedor_binario  \n",
       "0                 2     6                 1  \n",
       "1                 0     2                 1  \n",
       "2                 1     2                 0  \n",
       "3                 2     4                 0  \n",
       "4                 1     2                 0  "
      ]
     },
     "execution_count": 8,
     "metadata": {},
     "output_type": "execute_result"
    }
   ],
   "source": [
    "def vitoria_empate(valor):\n",
    "    if valor == \"-\":\n",
    "        return 0\n",
    "    else:\n",
    "        return 1\n",
    "\n",
    "df['vencedor_binario'] = df['vencedor'].map(vitoria_empate)\n",
    "df.head()"
   ]
  },
  {
   "cell_type": "code",
   "execution_count": 9,
   "id": "c1f284c8",
   "metadata": {},
   "outputs": [],
   "source": [
    "#funções para converter vencedor em mandante/visitante ou empate\n",
    "\n",
    "df.loc[df['vencedor'] == df['mandante'], 'vencedor_man_vis'] = 1\n",
    "df.loc[df['vencedor'] == df['visitante'], 'vencedor_man_vis'] = 0\n",
    "df.loc[df['vencedor'] == \"-\", 'vencedor_man_vis'] = -1"
   ]
  },
  {
   "cell_type": "code",
   "execution_count": 10,
   "id": "0bfed26c",
   "metadata": {},
   "outputs": [
    {
     "data": {
      "text/html": [
       "<div>\n",
       "<style scoped>\n",
       "    .dataframe tbody tr th:only-of-type {\n",
       "        vertical-align: middle;\n",
       "    }\n",
       "\n",
       "    .dataframe tbody tr th {\n",
       "        vertical-align: top;\n",
       "    }\n",
       "\n",
       "    .dataframe thead th {\n",
       "        text-align: right;\n",
       "    }\n",
       "</style>\n",
       "<table border=\"1\" class=\"dataframe\">\n",
       "  <thead>\n",
       "    <tr style=\"text-align: right;\">\n",
       "      <th></th>\n",
       "      <th>data</th>\n",
       "      <th>dia</th>\n",
       "      <th>mandante</th>\n",
       "      <th>visitante</th>\n",
       "      <th>vencedor</th>\n",
       "      <th>mandante_placar</th>\n",
       "      <th>visitante_placar</th>\n",
       "      <th>gols</th>\n",
       "      <th>vencedor_binario</th>\n",
       "      <th>vencedor_man_vis</th>\n",
       "    </tr>\n",
       "  </thead>\n",
       "  <tbody>\n",
       "    <tr>\n",
       "      <th>0</th>\n",
       "      <td>2003</td>\n",
       "      <td>Sabado</td>\n",
       "      <td>GUARANI</td>\n",
       "      <td>VASCO</td>\n",
       "      <td>GUARANI</td>\n",
       "      <td>4</td>\n",
       "      <td>2</td>\n",
       "      <td>6</td>\n",
       "      <td>1</td>\n",
       "      <td>1.0</td>\n",
       "    </tr>\n",
       "    <tr>\n",
       "      <th>1</th>\n",
       "      <td>2003</td>\n",
       "      <td>Sabado</td>\n",
       "      <td>ATHLETICO-PR</td>\n",
       "      <td>GREMIO</td>\n",
       "      <td>ATHLETICO-PR</td>\n",
       "      <td>2</td>\n",
       "      <td>0</td>\n",
       "      <td>2</td>\n",
       "      <td>1</td>\n",
       "      <td>1.0</td>\n",
       "    </tr>\n",
       "    <tr>\n",
       "      <th>2</th>\n",
       "      <td>2003</td>\n",
       "      <td>Domingo</td>\n",
       "      <td>FLAMENGO</td>\n",
       "      <td>CORITIBA</td>\n",
       "      <td>-</td>\n",
       "      <td>1</td>\n",
       "      <td>1</td>\n",
       "      <td>2</td>\n",
       "      <td>0</td>\n",
       "      <td>-1.0</td>\n",
       "    </tr>\n",
       "    <tr>\n",
       "      <th>3</th>\n",
       "      <td>2003</td>\n",
       "      <td>Domingo</td>\n",
       "      <td>GOIAS</td>\n",
       "      <td>PAYSANDU</td>\n",
       "      <td>-</td>\n",
       "      <td>2</td>\n",
       "      <td>2</td>\n",
       "      <td>4</td>\n",
       "      <td>0</td>\n",
       "      <td>-1.0</td>\n",
       "    </tr>\n",
       "    <tr>\n",
       "      <th>4</th>\n",
       "      <td>2003</td>\n",
       "      <td>Domingo</td>\n",
       "      <td>INTERNACIONAL</td>\n",
       "      <td>PONTE PRETA</td>\n",
       "      <td>-</td>\n",
       "      <td>1</td>\n",
       "      <td>1</td>\n",
       "      <td>2</td>\n",
       "      <td>0</td>\n",
       "      <td>-1.0</td>\n",
       "    </tr>\n",
       "  </tbody>\n",
       "</table>\n",
       "</div>"
      ],
      "text/plain": [
       "   data      dia       mandante    visitante      vencedor  mandante_placar  \\\n",
       "0  2003   Sabado        GUARANI        VASCO       GUARANI                4   \n",
       "1  2003   Sabado   ATHLETICO-PR       GREMIO  ATHLETICO-PR                2   \n",
       "2  2003  Domingo       FLAMENGO     CORITIBA             -                1   \n",
       "3  2003  Domingo          GOIAS     PAYSANDU             -                2   \n",
       "4  2003  Domingo  INTERNACIONAL  PONTE PRETA             -                1   \n",
       "\n",
       "   visitante_placar  gols  vencedor_binario  vencedor_man_vis  \n",
       "0                 2     6                 1               1.0  \n",
       "1                 0     2                 1               1.0  \n",
       "2                 1     2                 0              -1.0  \n",
       "3                 2     4                 0              -1.0  \n",
       "4                 1     2                 0              -1.0  "
      ]
     },
     "execution_count": 10,
     "metadata": {},
     "output_type": "execute_result"
    }
   ],
   "source": [
    "df.head()"
   ]
  },
  {
   "cell_type": "code",
   "execution_count": 11,
   "id": "404a5f3f",
   "metadata": {},
   "outputs": [
    {
     "data": {
      "text/plain": [
       "vencedor_man_vis\n",
       "-1.0    2015\n",
       " 0.0    1797\n",
       " 1.0    3833\n",
       "dtype: int64"
      ]
     },
     "execution_count": 11,
     "metadata": {},
     "output_type": "execute_result"
    }
   ],
   "source": [
    "#quantidade de vitorias e empates\n",
    "\n",
    "df.groupby(['vencedor_man_vis']).size()"
   ]
  },
  {
   "cell_type": "code",
   "execution_count": 12,
   "id": "4b64aff5",
   "metadata": {},
   "outputs": [
    {
     "name": "stdout",
     "output_type": "stream",
     "text": [
      "50.13734466971877 26.357096141268805 23.505559189012427\n"
     ]
    }
   ],
   "source": [
    "empate = (2015/7645)*100\n",
    "visitante = (1797/7645)*100\n",
    "mandante = (3833/7645)*100\n",
    "\n",
    "print(mandante, empate, visitante)\n",
    "#mandante ganha quase a metade dos jogos?\n",
    "#empate acontece mais do que vitória dos visitantes?"
   ]
  },
  {
   "cell_type": "code",
   "execution_count": 13,
   "id": "cd430e51",
   "metadata": {},
   "outputs": [
    {
     "data": {
      "image/png": "[encoded data removed]",
      "text/plain": [
       "<Figure size 432x288 with 1 Axes>"
      ]
     },
     "metadata": {
      "needs_background": "light"
     },
     "output_type": "display_data"
    }
   ],
   "source": [
    "#achando a média de gols por jogo por ano\n",
    "\n",
    "media_gols_ano = df.groupby(['data'])['gols'].mean()\n",
    "fig = sns.lineplot(data=media_gols_ano)"
   ]
  },
  {
   "cell_type": "code",
   "execution_count": 14,
   "id": "cdef8375",
   "metadata": {},
   "outputs": [
    {
     "data": {
      "image/png": "[encoded data removed]",
      "text/plain": [
       "<Figure size 432x288 with 1 Axes>"
      ]
     },
     "metadata": {
      "needs_background": "light"
     },
     "output_type": "display_data"
    }
   ],
   "source": [
    "#achando a média de gols por jogo por dia\n",
    "\n",
    "media_gols_dia = df.groupby(['dia'])['gols'].mean()\n",
    "fig = sns.lineplot(data=media_gols_dia)"
   ]
  },
  {
   "cell_type": "code",
   "execution_count": 15,
   "id": "75ea7e65",
   "metadata": {},
   "outputs": [
    {
     "data": {
      "text/plain": [
       "dia\n",
       "Domingo          9195\n",
       "Quarta-feira     3669\n",
       "Quinta-feira     1674\n",
       "Sabado           4567\n",
       "Segunda-feira     346\n",
       "Sexta-feira        63\n",
       "Terça-feira       221\n",
       "Name: gols, dtype: int64"
      ]
     },
     "execution_count": 15,
     "metadata": {},
     "output_type": "execute_result"
    }
   ],
   "source": [
    "#achando o número de gols por dia da semana\n",
    "\n",
    "df.groupby(['dia'])['gols'].sum()"
   ]
  },
  {
   "cell_type": "code",
   "execution_count": 16,
   "id": "6c080c90",
   "metadata": {},
   "outputs": [
    {
     "data": {
      "text/plain": [
       "dia\n",
       "Domingo          5497\n",
       "Quarta-feira     2160\n",
       "Quinta-feira     1060\n",
       "Sabado           2789\n",
       "Segunda-feira     200\n",
       "Sexta-feira        32\n",
       "Terça-feira       143\n",
       "Name: mandante_placar, dtype: int64"
      ]
     },
     "execution_count": 16,
     "metadata": {},
     "output_type": "execute_result"
    }
   ],
   "source": [
    "#achando o número de gols do time mandante por dia da semana\n",
    "\n",
    "df.groupby(['dia'])['mandante_placar'].sum()"
   ]
  },
  {
   "cell_type": "code",
   "execution_count": 17,
   "id": "0d59dc0f",
   "metadata": {},
   "outputs": [
    {
     "data": {
      "text/plain": [
       "dia\n",
       "Domingo          3698\n",
       "Quarta-feira     1509\n",
       "Quinta-feira      614\n",
       "Sabado           1778\n",
       "Segunda-feira     146\n",
       "Sexta-feira        31\n",
       "Terça-feira        78\n",
       "Name: visitante_placar, dtype: int64"
      ]
     },
     "execution_count": 17,
     "metadata": {},
     "output_type": "execute_result"
    }
   ],
   "source": [
    "#achando o número de gols do time visitante por dia da semana\n",
    "\n",
    "df.groupby(['dia'])['visitante_placar'].sum()"
   ]
  },
  {
   "cell_type": "code",
   "execution_count": 18,
   "id": "a00c0e28",
   "metadata": {},
   "outputs": [],
   "source": [
    "#achando a influência do time mandante nos gols por dia da semana\n",
    "\n",
    "m = df.groupby(['dia'])['mandante_placar'].sum()/df.groupby(['dia'])['gols'].sum()\n"
   ]
  },
  {
   "cell_type": "code",
   "execution_count": 19,
   "id": "7c6ca02c",
   "metadata": {},
   "outputs": [],
   "source": [
    "#achando a influência do time visitante nos gols por dia da semana\n",
    "#terça e quinta são os piores dias para apostar nos visitantes?\n",
    "\n",
    "v = df.groupby(['dia'])['visitante_placar'].sum()/df.groupby(['dia'])['gols'].sum()"
   ]
  },
  {
   "cell_type": "code",
   "execution_count": 20,
   "id": "f42992fa",
   "metadata": {},
   "outputs": [
    {
     "data": {
      "image/png": "[encoded data removed]",
      "text/plain": [
       "<Figure size 432x288 with 1 Axes>"
      ]
     },
     "metadata": {
      "needs_background": "light"
     },
     "output_type": "display_data"
    }
   ],
   "source": [
    "fig = sns.lineplot(data=m)\n",
    "fig = sns.lineplot(data=v)\n"
   ]
  },
  {
   "cell_type": "code",
   "execution_count": 21,
   "id": "8ea34dd0",
   "metadata": {},
   "outputs": [
    {
     "data": {
      "image/png": "[encoded data removed]",
      "text/plain": [
       "<Figure size 432x288 with 1 Axes>"
      ]
     },
     "metadata": {
      "needs_background": "light"
     },
     "output_type": "display_data"
    }
   ],
   "source": [
    "fig = sns.lineplot(data=df, x='dia', y='mandante_placar')\n",
    "fig = sns.lineplot(data=df, x='dia', y='visitante_placar')\n",
    "fig = sns.lineplot(data=df, x='dia', y='gols')"
   ]
  },
  {
   "cell_type": "code",
   "execution_count": null,
   "id": "f2666015",
   "metadata": {},
   "outputs": [],
   "source": []
  }
 ],
 "metadata": {
  "kernelspec": {
   "display_name": "Python 3 (ipykernel)",
   "language": "python",
   "name": "python3"
  },
  "language_info": {
   "codemirror_mode": {
    "name": "ipython",
    "version": 3
   },
   "file_extension": ".py",
   "mimetype": "text/x-python",
   "name": "python",
   "nbconvert_exporter": "python",
   "pygments_lexer": "ipython3",
   "version": "3.9.12"
  }
 },
 "nbformat": 4,
 "nbformat_minor": 5
}
